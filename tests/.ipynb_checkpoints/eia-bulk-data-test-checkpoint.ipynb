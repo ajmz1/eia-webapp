{
 "cells": [
  {
   "cell_type": "markdown",
   "id": "47c0eb5a",
   "metadata": {},
   "source": [
    "# EIA Bulk Data Testing"
   ]
  },
  {
   "cell_type": "markdown",
   "id": "009ab695",
   "metadata": {},
   "source": [
    "#### Loading in JSON organized objects stored within .txt file"
   ]
  },
  {
   "cell_type": "code",
   "execution_count": 3,
   "id": "0cc4eac4",
   "metadata": {},
   "outputs": [],
   "source": [
    "# Import necessary libraries\n",
    "import numpy as np\n",
    "import pandas as pd\n",
    "import json\n",
    "import urllib.request\n",
    "import time"
   ]
  },
  {
   "cell_type": "markdown",
   "id": "dcd34f3d",
   "metadata": {},
   "source": [
    "#### Testing the loading speed of all bulk data series"
   ]
  },
  {
   "cell_type": "code",
   "execution_count": 126,
   "id": "af8980f5",
   "metadata": {
    "scrolled": false
   },
   "outputs": [
    {
     "name": "stdout",
     "output_type": "stream",
     "text": [
      "419.82600498199463\n"
     ]
    }
   ],
   "source": [
    "# Github link containing EIA bulk data\n",
    "file = r'https://raw.githubusercontent.com/ajmz1/eia-webapp/main/assets/STEO.txt'\n",
    "\n",
    "t_start = time.time()\n",
    "# Loop over all JSON formatted objects held within .txt file\n",
    "for idx, line in enumerate(urllib.request.urlopen(file)):\n",
    "    data_series = json.loads(line.decode('utf-8'))\n",
    "    if idx == 0:\n",
    "        df = pd.DataFrame(data_series)\n",
    "    else:\n",
    "        df = pd.concat([df, pd.DataFrame(data_series)], axis=0).reset_index(drop=True)\n",
    "\n",
    "print(time.time() - t_start)"
   ]
  },
  {
   "cell_type": "markdown",
   "id": "4458332a",
   "metadata": {},
   "source": [
    "#### Testing the loading speed of creating a list of lists"
   ]
  },
  {
   "cell_type": "code",
   "execution_count": 4,
   "id": "cf964dbc",
   "metadata": {},
   "outputs": [
    {
     "name": "stdout",
     "output_type": "stream",
     "text": [
      "1.7444980144500732\n"
     ]
    }
   ],
   "source": [
    "# Github link containing EIA bulk data\n",
    "file = r'https://raw.githubusercontent.com/ajmz1/eia-webapp/main/assets/STEO.txt'\n",
    "\n",
    "t_start = time.time()\n",
    "# Loop over all JSON formatted objects held within .txt file\n",
    "data = []\n",
    "for idx, line in enumerate(urllib.request.urlopen(file)):\n",
    "    data_series = json.loads(line.decode('utf-8'))\n",
    "    data.append(data_series)\n",
    "\n",
    "print(time.time() - t_start)"
   ]
  },
  {
   "cell_type": "markdown",
   "id": "26602aa0",
   "metadata": {},
   "source": [
    "#### It is clear concat is very slow. Instead we will use the list approach and choose the series we want to investigate further"
   ]
  },
  {
   "cell_type": "code",
   "execution_count": 12,
   "id": "6f5eafd8",
   "metadata": {
    "scrolled": false
   },
   "outputs": [],
   "source": [
    "# Method for getting names of data series\n",
    "names = []\n",
    "key = 'name'\n",
    "for idx in range(len(data)):\n",
    "    if key in data[idx].keys():\n",
    "        names.append(data[idx][key])\n",
    "    else:\n",
    "        pass"
   ]
  },
  {
   "cell_type": "code",
   "execution_count": null,
   "id": "874b1683",
   "metadata": {},
   "outputs": [],
   "source": []
  },
  {
   "cell_type": "code",
   "execution_count": null,
   "id": "b6dba402",
   "metadata": {},
   "outputs": [],
   "source": []
  },
  {
   "cell_type": "code",
   "execution_count": null,
   "id": "f6c4add6",
   "metadata": {},
   "outputs": [],
   "source": []
  },
  {
   "cell_type": "code",
   "execution_count": null,
   "id": "330f35d8",
   "metadata": {},
   "outputs": [],
   "source": []
  },
  {
   "cell_type": "code",
   "execution_count": null,
   "id": "328b4705",
   "metadata": {},
   "outputs": [],
   "source": []
  },
  {
   "cell_type": "code",
   "execution_count": null,
   "id": "76399436",
   "metadata": {},
   "outputs": [],
   "source": []
  },
  {
   "cell_type": "code",
   "execution_count": null,
   "id": "e5965c60",
   "metadata": {},
   "outputs": [],
   "source": []
  },
  {
   "cell_type": "code",
   "execution_count": null,
   "id": "7facf6c7",
   "metadata": {},
   "outputs": [],
   "source": []
  },
  {
   "cell_type": "code",
   "execution_count": null,
   "id": "b4866947",
   "metadata": {},
   "outputs": [],
   "source": []
  },
  {
   "cell_type": "code",
   "execution_count": null,
   "id": "c90c4a05",
   "metadata": {},
   "outputs": [],
   "source": []
  },
  {
   "cell_type": "code",
   "execution_count": null,
   "id": "1ae50bc4",
   "metadata": {},
   "outputs": [],
   "source": []
  },
  {
   "cell_type": "code",
   "execution_count": null,
   "id": "88b3c7de",
   "metadata": {},
   "outputs": [],
   "source": []
  },
  {
   "cell_type": "code",
   "execution_count": null,
   "id": "c09c4149",
   "metadata": {},
   "outputs": [],
   "source": []
  },
  {
   "cell_type": "code",
   "execution_count": null,
   "id": "9dbcbc55",
   "metadata": {},
   "outputs": [],
   "source": []
  },
  {
   "cell_type": "code",
   "execution_count": null,
   "id": "d0a87e6c",
   "metadata": {},
   "outputs": [],
   "source": []
  },
  {
   "cell_type": "code",
   "execution_count": null,
   "id": "0134fc28",
   "metadata": {},
   "outputs": [],
   "source": []
  }
 ],
 "metadata": {
  "kernelspec": {
   "display_name": "Python 3 (ipykernel)",
   "language": "python",
   "name": "python3"
  },
  "language_info": {
   "codemirror_mode": {
    "name": "ipython",
    "version": 3
   },
   "file_extension": ".py",
   "mimetype": "text/x-python",
   "name": "python",
   "nbconvert_exporter": "python",
   "pygments_lexer": "ipython3",
   "version": "3.8.12"
  }
 },
 "nbformat": 4,
 "nbformat_minor": 5
}
